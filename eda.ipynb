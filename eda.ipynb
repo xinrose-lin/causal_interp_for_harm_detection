{
 "cells": [
  {
   "cell_type": "markdown",
   "metadata": {},
   "source": [
    "## outline: data prep and eda \n",
    "- data processing: train/test\n",
    "- data processing: perturbed data\n",
    "\n",
    "- eda: to understand the sparsity of the representation"
   ]
  },
  {
   "cell_type": "code",
   "execution_count": null,
   "metadata": {},
   "outputs": [
    {
     "name": "stderr",
     "output_type": "stream",
     "text": [
      "/opt/miniconda3/envs/causal-interp/lib/python3.11/site-packages/tqdm/auto.py:21: TqdmWarning: IProgress not found. Please update jupyter and ipywidgets. See https://ipywidgets.readthedocs.io/en/stable/user_install.html\n",
      "  from .autonotebook import tqdm as notebook_tqdm\n"
     ]
    }
   ],
   "source": [
    "from torch import nn\n",
    "import torch as t\n",
    "from sae_lens import SAE, HookedSAETransformer\n",
    "import matplotlib.pyplot as plt\n",
    "from datasets import load_dataset\n",
    "\n",
    "from utils.data_utils import load_target_concept_data, save_to_json_file\n",
    "from utils.model_acts_utils import get_sparse_acts"
   ]
  },
  {
   "cell_type": "code",
   "execution_count": 9,
   "metadata": {},
   "outputs": [
    {
     "name": "stdout",
     "output_type": "stream",
     "text": [
      "Loaded pretrained model EleutherAI/pythia-70m-deduped into HookedTransformer\n"
     ]
    }
   ],
   "source": [
    "sae_release = \"pythia-70m-deduped-res-sm\"\n",
    "sae_id = \"blocks.4.hook_resid_post\"\n",
    "device = \"cuda\" if t.cuda.is_available() else \"cpu\"\n",
    "\n",
    "sae = SAE.from_pretrained(sae_release, sae_id)[0]\n",
    "model: HookedSAETransformer = HookedSAETransformer.from_pretrained('EleutherAI/pythia-70m-deduped', device=device)\n"
   ]
  },
  {
   "cell_type": "markdown",
   "metadata": {},
   "source": [
    "## data processing: train / test"
   ]
  },
  {
   "cell_type": "code",
   "execution_count": null,
   "metadata": {},
   "outputs": [],
   "source": [
    "train_nonharmful_data = load_target_concept_data(train=True, target_label=0)\n",
    "train_harmful_data = load_target_concept_data(train=True, target_label=1)\n",
    "\n",
    "save_to_json_file(\"data/train/harmful_train_ds.json\", train_harmful_data)\n",
    "save_to_json_file(\"data/train/nonharmful_train_ds.json\", train_nonharmful_data)\n",
    "\n",
    "test_nonharmful_data = load_target_concept_data(train=False, target_label=0)\n",
    "test_harmful_data = load_target_concept_data(train=False, target_label=1)\n",
    "\n",
    "save_to_json_file(\"data/test/harmful_test_ds.json\", test_harmful_data)\n",
    "save_to_json_file(\"data/test/nonharmful_test_ds.json\", test_nonharmful_data)\n"
   ]
  },
  {
   "cell_type": "markdown",
   "metadata": {},
   "source": [
    "## data processing: test perturbed \n",
    "\n",
    "ran from https://github.com/xinrose-lin/autoDAN/blob/main/autodan_hga_eval.py\n",
    "\n",
    "with reference from: https://github.com/SheltonLiu-N/AutoDAN\n",
    "\n",
    "loaded as: \"data/raw/autodan_hga/autodan_hga_pythia.json\""
   ]
  },
  {
   "cell_type": "code",
   "execution_count": null,
   "metadata": {},
   "outputs": [],
   "source": [
    "import json\n",
    "\n",
    "filepath = \"data/autodan_hga/autodan_hga_pythia.json\"\n",
    "with open(filepath, \"r\") as file:\n",
    "    autodan_pythia = json.load(file)\n",
    "\n",
    "filepath = \"data/harmful_test_ds.json\"\n",
    "with open(filepath, \"r\") as file:\n",
    "    harmful_test_data = json.load(file)\n",
    "\n",
    "filepath = \"data/harmful_train_ds.json\"\n",
    "with open(filepath, \"r\") as file:\n",
    "    harmful_train_data = json.load(file)\n",
    "\n",
    "harmful_test_set = set(harmful_test_data[0])\n",
    "harmful_test = []\n",
    "harmful_test_perturbed = []\n",
    "\n",
    "harmful_train_set = set(harmful_train_data[0])\n",
    "harmful_train = []\n",
    "harmful_train_perturbed = []\n",
    "\n",
    "add_harmful = []\n",
    "add_harmful_perturbed = []\n",
    "\n",
    "for output in autodan_pythia.values(): \n",
    "    if output['goal'] in harmful_test_set: \n",
    "        harmful_test.append(output['goal'])\n",
    "        harmful_test_perturbed.append(output['final_suffix'].replace(\"[REPLACE]\", output['goal']))\n",
    "    elif output['goal'] in harmful_train_set: \n",
    "        harmful_train.append(output['goal'])\n",
    "        harmful_train_perturbed.append(output['final_suffix'].replace(\"[REPLACE]\", output['goal']))\n",
    "    else: \n",
    "        add_harmful.append(output['goal'])\n",
    "        add_harmful_perturbed.append(output['final_suffix'].replace(\"[REPLACE]\", output['goal']))\n",
    "    \n",
    "evals = {} ## recall score \n",
    "\n",
    "## concept probe: \n",
    "evals['harmful_train_64'] = harmful_train\n",
    "evals['harmful_train_perturbed'] = harmful_train_perturbed\n",
    "\n",
    "## concept probe: harmful vs harmless on testset\n",
    "evals['harmful_test_192'] = harmful_test\n",
    "## concept probe: harmful vs harmless on perturbed data (by jailbreak prompt)\n",
    "evals['harmful_test_perturbed'] = harmful_test_perturbed\n",
    "\n",
    "## additional: recall scoring\n",
    "## concept probe: extending harmful classification to more data from advbench\n",
    "evals['harmful_additional_264'] = add_harmful\n",
    "evals['harmful_additional_perturbed'] = add_harmful_perturbed\n",
    "\n",
    "filepath = \"data/harm_perturbed_testset/harm_perturbed_testset.json\"\n",
    "with open(filepath, \"w\") as file:\n",
    "    json.dump(evals, file, indent=4) \n"
   ]
  },
  {
   "cell_type": "code",
   "execution_count": null,
   "metadata": {},
   "outputs": [],
   "source": [
    "import json\n",
    "filepath = \"data/harm_evals_dataset.json\"\n",
    "with open(filepath, \"r\") as file:\n",
    "    evals = json.load(file)\n"
   ]
  },
  {
   "cell_type": "code",
   "execution_count": 9,
   "metadata": {},
   "outputs": [
    {
     "data": {
      "text/plain": [
       "dict_keys(['harmful_train_64', 'harmful_train_perturbed', 'harmful_test_192', 'harmful_test_perturbed', 'harmful_additional_264', 'harmful_additional_perturbed'])"
      ]
     },
     "execution_count": 9,
     "metadata": {},
     "output_type": "execute_result"
    }
   ],
   "source": [
    "evals.keys()"
   ]
  },
  {
   "cell_type": "markdown",
   "metadata": {},
   "source": [
    "## eda\n",
    "\n",
    "EDA for sparse representation of prompts using SAE trained for pythia 70m on layer 4 residual stream\n",
    "\n",
    "- to udnerstand the sparsity of the representation"
   ]
  },
  {
   "cell_type": "code",
   "execution_count": 31,
   "metadata": {},
   "outputs": [],
   "source": [
    "import json\n",
    "filepath = \"data/harmful_train_ds.json\"\n",
    "with open(f'{filepath}', \"r\") as f:\n",
    "       harmful_ds = json.load(f)\n",
    "\n",
    "filepath = \"data/nonharmful_train_ds.json\"\n",
    "with open(f'{filepath}', \"r\") as f:\n",
    "       nonharmful_ds = json.load(f)\n"
   ]
  },
  {
   "cell_type": "code",
   "execution_count": 38,
   "metadata": {},
   "outputs": [
    {
     "data": {
      "text/plain": [
       "128"
      ]
     },
     "execution_count": 38,
     "metadata": {},
     "output_type": "execute_result"
    }
   ],
   "source": [
    "train_ds = harmful_ds[0] + nonharmful_ds[0]\n",
    "len(train_ds)"
   ]
  },
  {
   "cell_type": "code",
   "execution_count": 42,
   "metadata": {},
   "outputs": [
    {
     "name": "stdout",
     "output_type": "stream",
     "text": [
      "Loaded pretrained model EleutherAI/pythia-70m-deduped into HookedTransformer\n"
     ]
    },
    {
     "data": {
      "text/plain": [
       "torch.Size([128, 31, 32768])"
      ]
     },
     "execution_count": 42,
     "metadata": {},
     "output_type": "execute_result"
    }
   ],
   "source": [
    "sparse_acts = get_sparse_acts(train_ds)\n",
    "sparse_acts.shape"
   ]
  },
  {
   "cell_type": "markdown",
   "metadata": {},
   "source": [
    "- get dataset sparsity"
   ]
  },
  {
   "cell_type": "code",
   "execution_count": 64,
   "metadata": {},
   "outputs": [
    {
     "name": "stdout",
     "output_type": "stream",
     "text": [
      "total ratio / count 0.60394287109375 19790\n",
      "average activations ratio: 0.004718303680419922 / 154.609375\n"
     ]
    }
   ],
   "source": [
    "count = 0\n",
    "# sparsity for last token representations\n",
    "ratio = 0.0\n",
    "counts = []\n",
    "ratios = []\n",
    "for i in range(len(sparse_acts)): \n",
    "    sparsity_count = sparse_acts[i, -1, :].nonzero().numel()\n",
    "    count += sparsity_count\n",
    "    ratio += sparsity_count/32768\n",
    "    counts.append(sparsity_count)\n",
    "    ratios.append(ratio)\n",
    "\n",
    "print('total ratio / count', ratio, count)\n",
    "print(f'average activations ratio: {ratio / 128} / { count / 128}')\n"
   ]
  },
  {
   "cell_type": "code",
   "execution_count": 75,
   "metadata": {},
   "outputs": [],
   "source": [
    "minimum = min(counts)\n",
    "maximum = max(counts) \n",
    "median = t.median(t.tensor(counts)).item()"
   ]
  },
  {
   "cell_type": "code",
   "execution_count": null,
   "metadata": {},
   "outputs": [
    {
     "data": {
      "text/plain": [
       "Text(1.1, 212, 'Max: 212')"
      ]
     },
     "execution_count": 76,
     "metadata": {},
     "output_type": "execute_result"
    },
    {
     "data": {
      "image/png": "[encoded data removed]",
      "text/plain": [
       "<Figure size 640x480 with 1 Axes>"
      ]
     },
     "metadata": {},
     "output_type": "display_data"
    }
   ],
   "source": [
    "# Create the box plot\n",
    "plt.boxplot(counts, vert=True, patch_artist=True, boxprops=dict(facecolor=\"lightblue\"))\n",
    "plt.xticks([1], ['Counts'])\n",
    "plt.title('sparse activation counts for n=128 prompts from train split')\n",
    "\n",
    "plt.title('sparsity counts for n=128 prompts from train split')\n",
    "# Annotate min, max, and median\n",
    "plt.text(1.1, minimum, f\"Min: {minimum}\", ha='left', va='center', fontsize=10, color='blue')\n",
    "plt.text(1.1, median, f\"Median: {median}\", ha='left', va='center', fontsize=10, color='green')\n",
    "plt.text(1.1, maximum, f\"Max: {maximum}\", ha='left', va='center', fontsize=10, color='red')\n"
   ]
  },
  {
   "cell_type": "code",
   "execution_count": null,
   "metadata": {},
   "outputs": [],
   "source": []
  }
 ],
 "metadata": {
  "kernelspec": {
   "display_name": "causal-interp",
   "language": "python",
   "name": "python3"
  },
  "language_info": {
   "codemirror_mode": {
    "name": "ipython",
    "version": 3
   },
   "file_extension": ".py",
   "mimetype": "text/x-python",
   "name": "python",
   "nbconvert_exporter": "python",
   "pygments_lexer": "ipython3",
   "version": "3.11.8"
  }
 },
 "nbformat": 4,
 "nbformat_minor": 2
}
