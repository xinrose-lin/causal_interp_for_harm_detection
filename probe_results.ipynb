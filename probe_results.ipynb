{
 "cells": [
  {
   "cell_type": "markdown",
   "metadata": {},
   "source": [
    "### classification results \n",
    "\n",
    "- input: \n",
    "\n",
    "- output: \n",
    "    - acts probe\n",
    "    - sparse acts probe\n",
    "    - causal probe \n",
    "\n",
    "- inspect failure cases? \n",
    "    "
   ]
  },
  {
   "cell_type": "code",
   "execution_count": null,
   "metadata": {},
   "outputs": [],
   "source": [
    "import random\n",
    "import torch as t\n",
    "from torch import nn\n",
    "from sae_lens import HookedSAETransformer\n",
    "import matplotlib.pyplot as plt\n",
    "\n",
    "from utils.data_utils import read_from_json_file, read_from_pt_gz\n",
    "from utils.probe_utils import data_loader, train_probe, test_probe"
   ]
  },
  {
   "cell_type": "code",
   "execution_count": null,
   "metadata": {},
   "outputs": [],
   "source": [
    "class Probe(nn.Module):\n",
    "    def __init__(self, activation_dim):\n",
    "        super().__init__()\n",
    "        self.net = nn.Linear(activation_dim, 1, bias=True)\n",
    "\n",
    "    def forward(self, x):\n",
    "        logits = self.net(x).squeeze(-1)\n",
    "        return logits"
   ]
  },
  {
   "cell_type": "code",
   "execution_count": null,
   "metadata": {},
   "outputs": [],
   "source": [
    "## load pythia with hooked transformer for consistent comparison\n",
    "\n",
    "device = \"cpu\"\n",
    "pythia_model: HookedSAETransformer = HookedSAETransformer.from_pretrained('EleutherAI/pythia-70m-deduped', device=device)"
   ]
  },
  {
   "cell_type": "code",
   "execution_count": null,
   "metadata": {},
   "outputs": [],
   "source": [
    "train_nonharmful = read_from_json_file(\"data/nonharmful_train_ds.json\")\n",
    "train_harmful = read_from_json_file(\"data/harmful_train_ds.json\")\n",
    "\n",
    "test_nonharmful = read_from_json_file(\"data/nonharmful_test_ds.json\")\n",
    "test_harmful = read_from_json_file(\"data/harmful_test_ds.json\")\n"
   ]
  },
  {
   "cell_type": "markdown",
   "metadata": {},
   "source": [
    "#### acts probe "
   ]
  },
  {
   "cell_type": "code",
   "execution_count": null,
   "metadata": {},
   "outputs": [],
   "source": [
    "### get train acts\n",
    "nonharmful_acts = read_from_pt_gz(\"sparse_acts/train/nonharmful_acts_512.pt.gz\")\n",
    "harmful_acts = read_from_pt_gz(\"sparse_acts/train/harmful_acts_512.pt.gz\")\n",
    "\n",
    "last_tok_acts_data = t.cat((nonharmful_acts[:, -1, :], harmful_acts[:, -1, :]), dim=0).tolist()\n",
    "label = train_nonharmful[1] + train_harmful[1]\n",
    "train_batches = data_loader(last_tok_acts_data, label)\n"
   ]
  },
  {
   "cell_type": "code",
   "execution_count": null,
   "metadata": {},
   "outputs": [],
   "source": [
    "## get test acts\n",
    "nonharmful_acts = read_from_pt_gz(\"sparse_acts/test/nonharmful_acts_512.pt.gz\")\n",
    "harmful_acts = read_from_pt_gz(\"sparse_acts/test/harmful_acts_512.pt.gz\")\n",
    "\n",
    "last_tok_acts_data = t.cat((nonharmful_acts[:, -1, :], harmful_acts[:, -1, :]), dim=0).tolist()\n",
    "label = test_nonharmful[1] + test_harmful[1]\n",
    "test_batches = data_loader(last_tok_acts_data, label)\n"
   ]
  },
  {
   "cell_type": "code",
   "execution_count": null,
   "metadata": {},
   "outputs": [],
   "source": [
    "t.manual_seed(42)\n",
    "probe = Probe(512)\n",
    "\n",
    "epoch_train_loss = []\n",
    "total_loss = []\n",
    "epoch_test_acc = []\n",
    "epoches = 25\n",
    "\n",
    "# train_batches = batches[:-2]\n",
    "\n",
    "for i in range(epoches): \n",
    "    probe, losses = train_probe(probe, train_batches)\n",
    "    total_loss.extend(losses)\n",
    "    epoch_train_loss.append(losses[-1])\n",
    "\n",
    "    test_acc = test_probe(probe, batches=test_batches, seed=42)\n",
    "    epoch_test_acc.append(test_acc)\n"
   ]
  },
  {
   "cell_type": "code",
   "execution_count": null,
   "metadata": {},
   "outputs": [],
   "source": [
    "def train_loop(train_batches, epoches=25, dim=512): \n",
    "    t.manual_seed(42)\n",
    "    probe = Probe(512)\n",
    "\n",
    "    epoch_train_loss = []\n",
    "    total_loss = []\n",
    "    epoch_test_acc = []\n",
    "\n",
    "    for i in range(epoches): \n",
    "        probe, losses = train_probe(probe, train_batches)\n",
    "        total_loss.extend(losses)\n",
    "        epoch_train_loss.append(losses[-1])\n",
    "\n",
    "        test_acc = test_probe(probe, batches=test_batches, seed=42)\n",
    "        epoch_test_acc.append(test_acc)\n"
   ]
  },
  {
   "cell_type": "code",
   "execution_count": null,
   "metadata": {},
   "outputs": [],
   "source": [
    "## try reducing the data and retrain"
   ]
  },
  {
   "cell_type": "code",
   "execution_count": null,
   "metadata": {},
   "outputs": [],
   "source": [
    "# import matplotlib.pyplot as plt\n",
    "# to do plot side by side?\n",
    "plt.plot(total_loss)\n",
    "plt.plot(epoch_test_acc)\n",
    "\n",
    "plt.title(\"(dim=512) original concept probe test acc\")\n",
    "print(epoch_test_acc)"
   ]
  },
  {
   "cell_type": "code",
   "execution_count": null,
   "metadata": {},
   "outputs": [],
   "source": [
    "## mean for final token\n",
    "\n",
    "nonharmful_data = nonharmful_acts[:, -1, :].mean(0)  # mean along axes 0 and 1 for nonharmful_acts\n",
    "harmful_data = harmful_acts[:, -1, :].mean(0)      # mean along axes 0 and 1 for harmful_acts\n",
    "\n",
    "# Create a figure and axis\n",
    "plt.figure(figsize=(8, 6))\n",
    "\n",
    "# Plot nonharmful_acts boxplot at position 1 with a custom color\n",
    "box_nonharmful = plt.boxplot(nonharmful_data, positions=[1], patch_artist=True, boxprops=dict(facecolor='lightblue', color='blue'))\n",
    "\n",
    "# Plot harmful_acts boxplot at position 2 with a custom color\n",
    "box_harmful = plt.boxplot(harmful_data, positions=[2], patch_artist=True, boxprops=dict(facecolor='lightcoral', color='red'))\n",
    "\n",
    "# Function to annotate max, min, and median values\n",
    "def annotate_boxplot(data, pos):\n",
    "    # Extract the statistics from the boxplot\n",
    "    median = t.median(data)\n",
    "    minimum = t.min(data)\n",
    "    maximum = t.max(data)\n",
    "\n",
    "    plt.text(pos + 0.1, minimum, f\"Min: {minimum:.2f}\", ha='left', va='center', fontsize=10, color='blue')\n",
    "    plt.text(pos + 0.1, median, f\"Median: {median:.2f}\", ha='left', va='center', fontsize=10, color='green')\n",
    "    plt.text(pos + 0.1, maximum, f\"Max: {maximum:.2f}\", ha='left', va='center', fontsize=10, color='red')\n",
    "\n",
    "# Annotate both boxplots\n",
    "annotate_boxplot(nonharmful_data, 1)\n",
    "annotate_boxplot(harmful_data, 2)\n",
    "\n",
    "# Set the x-axis labels\n",
    "plt.xticks([1, 2], ['Non-Harmful Acts', 'Harmful Acts'])\n",
    "\n",
    "# Optional: Add labels and title\n",
    "plt.xlabel('Type of Acts')\n",
    "plt.ylabel('Mean Activation Value (n=64)')\n",
    "plt.title('Comparison of Non-Harmful vs Harmful last token Activations (dim=512)')\n",
    "\n",
    "# Display the plot\n",
    "plt.show()\n",
    "\n",
    "## quite similar"
   ]
  },
  {
   "cell_type": "code",
   "execution_count": null,
   "metadata": {},
   "outputs": [],
   "source": [
    "nonharmful_data = nonharmful_acts.mean(1).mean(0)  # mean along axes 0 and 1 for nonharmful_acts\n",
    "harmful_data = harmful_acts.mean(1).mean(0)       # mean along axes 0 and 1 for harmful_acts\n",
    "\n",
    "# Create a figure and axis\n",
    "plt.figure(figsize=(8, 6))\n",
    "\n",
    "# Plot nonharmful_acts boxplot at position 1 with a custom color\n",
    "box_nonharmful = plt.boxplot(nonharmful_data, positions=[1], patch_artist=True, boxprops=dict(facecolor='lightblue', color='blue'))\n",
    "\n",
    "# Plot harmful_acts boxplot at position 2 with a custom color\n",
    "box_harmful = plt.boxplot(harmful_data, positions=[2], patch_artist=True, boxprops=dict(facecolor='lightcoral', color='red'))\n",
    "\n",
    "# Function to annotate max, min, and median values\n",
    "def annotate_boxplot(data, pos):\n",
    "    # Extract the statistics from the boxplot\n",
    "    median = t.median(data)\n",
    "    minimum = t.min(data)\n",
    "    maximum = t.max(data)\n",
    "\n",
    "    plt.text(pos + 0.1, minimum, f\"Min: {minimum:.2f}\", ha='left', va='center', fontsize=10, color='blue')\n",
    "    plt.text(pos + 0.1, median, f\"Median: {median:.2f}\", ha='left', va='center', fontsize=10, color='green')\n",
    "    plt.text(pos + 0.1, maximum, f\"Max: {maximum:.2f}\", ha='left', va='center', fontsize=10, color='red')\n",
    "\n",
    "# Annotate both boxplots\n",
    "annotate_boxplot(nonharmful_data, 1)\n",
    "annotate_boxplot(harmful_data, 2)\n",
    "\n",
    "# Set the x-axis labels\n",
    "plt.xticks([1, 2], ['Non-Harmful Acts', 'Harmful Acts'])\n",
    "\n",
    "# Optional: Add labels and title\n",
    "plt.xlabel('Type of Acts')\n",
    "plt.ylabel('Mean Value across tokens')\n",
    "plt.title('Comparison of Non-Harmful vs Harmful Activation Values for (dim=512) averaged over n=64 prompts each')\n",
    "\n",
    "# Display the plot\n",
    "plt.show()\n",
    "\n",
    "## quite similar"
   ]
  },
  {
   "cell_type": "markdown",
   "metadata": {},
   "source": [
    "#### sparse acts probe\n",
    "- todo: could re-run to get sparse acts - to viz\n",
    "\n"
   ]
  },
  {
   "cell_type": "code",
   "execution_count": null,
   "metadata": {},
   "outputs": [],
   "source": [
    "### get train sparse acts, test sparse acts\n",
    "nonharmful_sparse_acts = read_from_pt_gz(\"sparse_acts/train/nonharmful_sparse_acts_32768.pt.gz\")\n",
    "harmful_sparse_acts = read_from_pt_gz(\"sparse_acts/train/harmful_sparse_acts_32768.pt.gz\")\n",
    "\n",
    "\n"
   ]
  },
  {
   "cell_type": "code",
   "execution_count": null,
   "metadata": {},
   "outputs": [],
   "source": [
    "### train probe, test probe"
   ]
  },
  {
   "cell_type": "markdown",
   "metadata": {},
   "source": [
    "#### causal probe"
   ]
  },
  {
   "cell_type": "code",
   "execution_count": null,
   "metadata": {},
   "outputs": [],
   "source": [
    "### get train ablation effects, test ablation effects"
   ]
  },
  {
   "cell_type": "code",
   "execution_count": null,
   "metadata": {},
   "outputs": [],
   "source": []
  }
 ],
 "metadata": {
  "language_info": {
   "name": "python"
  }
 },
 "nbformat": 4,
 "nbformat_minor": 2
}
